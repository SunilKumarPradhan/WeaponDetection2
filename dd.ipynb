{
 "cells": [
  {
   "cell_type": "code",
   "execution_count": 1,
   "metadata": {},
   "outputs": [
    {
     "ename": "ModuleNotFoundError",
     "evalue": "No module named 'helpers'",
     "output_type": "error",
     "traceback": [
      "\u001b[1;31m---------------------------------------------------------------------------\u001b[0m",
      "\u001b[1;31mModuleNotFoundError\u001b[0m                       Traceback (most recent call last)",
      "Cell \u001b[1;32mIn[1], line 5\u001b[0m\n\u001b[0;32m      3\u001b[0m \u001b[38;5;28;01mimport\u001b[39;00m \u001b[38;5;21;01mcv2\u001b[39;00m\n\u001b[0;32m      4\u001b[0m \u001b[38;5;28;01mimport\u001b[39;00m \u001b[38;5;21;01mimutils\u001b[39;00m\n\u001b[1;32m----> 5\u001b[0m \u001b[38;5;28;01mfrom\u001b[39;00m \u001b[38;5;21;01mhelpers\u001b[39;00m \u001b[38;5;28;01mimport\u001b[39;00m weapon_detector  \u001b[38;5;66;03m# Assuming you have a weapon_detector function in helpers.py\u001b[39;00m\n\u001b[0;32m      6\u001b[0m \u001b[38;5;28;01mimport\u001b[39;00m \u001b[38;5;21;01mnumpy\u001b[39;00m \u001b[38;5;28;01mas\u001b[39;00m \u001b[38;5;21;01mnp\u001b[39;00m\n\u001b[0;32m      8\u001b[0m \u001b[38;5;28;01mdef\u001b[39;00m \u001b[38;5;21mapp\u001b[39m():\n",
      "\u001b[1;31mModuleNotFoundError\u001b[0m: No module named 'helpers'"
     ]
    }
   ],
   "source": [
    "import os\n",
    "import streamlit as st\n",
    "import cv2\n",
    "import imutils\n",
    "# from helpers import weapon_detector  # Assuming you have a weapon_detector function in helpers.py\n",
    "import numpy as np\n",
    "\n",
    "def app():\n",
    "    st.write(\"# DeductAI: Weapon Detector\")\n",
    "\n",
    "    st.write(\"## Upload Video in .mp4 format\")\n",
    "    uploaded_video = st.file_uploader(\"\", type=[\"mp4\"])\n",
    "\n",
    "    st.write(\"## Uploaded Video\")\n",
    "\n",
    "    if uploaded_video:\n",
    "        st.video(uploaded_video)\n",
    "\n",
    "        button = st.button(\"Detect Weapons\", key=None)\n",
    "\n",
    "        if button:\n",
    "            # Initialize video capture\n",
    "            video_path = \"uploaded_video.mp4\"\n",
    "            with open(video_path, \"wb\") as video_file:\n",
    "                video_file.write(uploaded_video.read())\n",
    "\n",
    "            # Initialize video capture\n",
    "            camera = cv2.VideoCapture(video_path)\n",
    "\n",
    "            # Initialize variables\n",
    "            weapon_exist = False\n",
    "\n",
    "            while True:\n",
    "                (grabbed, frame) = camera.read()\n",
    "\n",
    "                # if the frame could not be grabbed, then we have reached the end of the video\n",
    "                if not grabbed:\n",
    "                    break\n",
    "\n",
    "                # Resize the frame, convert it to grayscale, and blur it\n",
    "                frame = imutils.resize(frame, width=500)\n",
    "                gray = cv2.cvtColor(frame, cv2.COLOR_BGR2GRAY)\n",
    "                gray = cv2.GaussianBlur(gray, (21, 21), 0)\n",
    "\n",
    "                # Detect weapons in the frame\n",
    "                weapon_detected = weapon_detector.detect(frame)  # Assuming you have a detect function in helpers.py\n",
    "\n",
    "                if weapon_detected:\n",
    "                    weapon_exist = True\n",
    "\n",
    "                # Display the frame\n",
    "                st.image(frame, channels=\"BGR\")\n",
    "\n",
    "                # if the user presses the stop button\n",
    "                if not st.button(\"Stop Detection\"):\n",
    "                    break\n",
    "\n",
    "            if weapon_exist:\n",
    "                st.markdown(\"### Weapons detected! 🔫\")\n",
    "            else:\n",
    "                st.markdown(\"### Weapons NOT detected!\")\n",
    "\n",
    "            # Cleanup\n",
    "            camera.release()\n",
    "            os.remove(video_path)\n"
   ]
  }
 ],
 "metadata": {
  "kernelspec": {
   "display_name": "tf_gpu",
   "language": "python",
   "name": "python3"
  },
  "language_info": {
   "codemirror_mode": {
    "name": "ipython",
    "version": 3
   },
   "file_extension": ".py",
   "mimetype": "text/x-python",
   "name": "python",
   "nbconvert_exporter": "python",
   "pygments_lexer": "ipython3",
   "version": "3.9.0"
  }
 },
 "nbformat": 4,
 "nbformat_minor": 2
}
